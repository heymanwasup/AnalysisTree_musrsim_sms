{
 "cells": [
  {
   "cell_type": "code",
   "execution_count": 1,
   "metadata": {},
   "outputs": [
    {
     "name": "stdout",
     "output_type": "stream",
     "text": [
      "Welcome to JupyROOT 6.24/00\n"
     ]
    }
   ],
   "source": [
    "import ROOT as R"
   ]
  },
  {
   "cell_type": "code",
   "execution_count": 3,
   "metadata": {},
   "outputs": [
    {
     "ename": "TypeError",
     "evalue": "none of the 6 overloaded methods succeeded. Full details:\n  TH1F::TH1F(const TH1F& h1f) =>\n    TypeError: takes at most 1 arguments (4 given)\n  TH1F::TH1F(const TVectorT<float>& v) =>\n    TypeError: takes at most 1 arguments (4 given)\n  TH1F::TH1F() =>\n    TypeError: takes at most 0 arguments (4 given)\n  TH1F::TH1F(const char* name, const char* title, int nbinsx, double xlow, double xup) =>\n    TypeError: takes at least 5 arguments (4 given)\n  TH1F::TH1F(const char* name, const char* title, int nbinsx, const float* xbins) =>\n    TypeError: could not convert argument 4 (could not convert argument to buffer or nullptr)\n  TH1F::TH1F(const char* name, const char* title, int nbinsx, const double* xbins) =>\n    TypeError: could not convert argument 4 (could not convert argument to buffer or nullptr)",
     "output_type": "error",
     "traceback": [
      "\u001b[0;31m\u001b[0m",
      "\u001b[0;31mTypeError\u001b[0mTraceback (most recent call last)",
      "\u001b[0;32m<ipython-input-3-a1e26f4bf807>\u001b[0m in \u001b[0;36m<module>\u001b[0;34m()\u001b[0m\n\u001b[1;32m      1\u001b[0m \u001b[0mc\u001b[0m \u001b[0;34m=\u001b[0m \u001b[0mR\u001b[0m\u001b[0;34m.\u001b[0m\u001b[0mTCanvas\u001b[0m\u001b[0;34m(\u001b[0m\u001b[0;34m)\u001b[0m\u001b[0;34m\u001b[0m\u001b[0m\n\u001b[0;32m----> 2\u001b[0;31m \u001b[0mh\u001b[0m \u001b[0;34m=\u001b[0m \u001b[0mR\u001b[0m\u001b[0;34m.\u001b[0m\u001b[0mTH1F\u001b[0m\u001b[0;34m(\u001b[0m\u001b[0;34m'h1'\u001b[0m\u001b[0;34m,\u001b[0m\u001b[0;34m'h1'\u001b[0m\u001b[0;34m,\u001b[0m\u001b[0;36m3\u001b[0m\u001b[0;34m,\u001b[0m\u001b[0;34m[\u001b[0m\u001b[0;34m'one'\u001b[0m\u001b[0;34m,\u001b[0m\u001b[0;34m'two'\u001b[0m\u001b[0;34m,\u001b[0m\u001b[0;34m'three'\u001b[0m\u001b[0;34m]\u001b[0m\u001b[0;34m)\u001b[0m\u001b[0;34m\u001b[0m\u001b[0m\n\u001b[0m\u001b[1;32m      3\u001b[0m \u001b[0mh\u001b[0m\u001b[0;34m.\u001b[0m\u001b[0mFill\u001b[0m\u001b[0;34m(\u001b[0m\u001b[0;36m1\u001b[0m\u001b[0;34m)\u001b[0m\u001b[0;34m\u001b[0m\u001b[0m\n\u001b[1;32m      4\u001b[0m \u001b[0mh\u001b[0m\u001b[0;34m.\u001b[0m\u001b[0mDraw\u001b[0m\u001b[0;34m(\u001b[0m\u001b[0;34m)\u001b[0m\u001b[0;34m\u001b[0m\u001b[0m\n",
      "\u001b[0;31mTypeError\u001b[0m: none of the 6 overloaded methods succeeded. Full details:\n  TH1F::TH1F(const TH1F& h1f) =>\n    TypeError: takes at most 1 arguments (4 given)\n  TH1F::TH1F(const TVectorT<float>& v) =>\n    TypeError: takes at most 1 arguments (4 given)\n  TH1F::TH1F() =>\n    TypeError: takes at most 0 arguments (4 given)\n  TH1F::TH1F(const char* name, const char* title, int nbinsx, double xlow, double xup) =>\n    TypeError: takes at least 5 arguments (4 given)\n  TH1F::TH1F(const char* name, const char* title, int nbinsx, const float* xbins) =>\n    TypeError: could not convert argument 4 (could not convert argument to buffer or nullptr)\n  TH1F::TH1F(const char* name, const char* title, int nbinsx, const double* xbins) =>\n    TypeError: could not convert argument 4 (could not convert argument to buffer or nullptr)"
     ]
    }
   ],
   "source": [
    "c = R.TCanvas()\n",
    "h = R.TH1F('h1','h1',3,['one','two','three'])\n",
    "h.Fill(1)\n",
    "h.Draw()\n"
   ]
  },
  {
   "cell_type": "code",
   "execution_count": null,
   "metadata": {},
   "outputs": [],
   "source": []
  }
 ],
 "metadata": {
  "interpreter": {
   "hash": "949777d72b0d2535278d3dc13498b2535136f6dfe0678499012e853ee9abcab1"
  },
  "kernelspec": {
   "display_name": "Python 2.7.16 64-bit",
   "language": "python",
   "name": "python3"
  },
  "language_info": {
   "codemirror_mode": {
    "name": "ipython",
    "version": 2
   },
   "file_extension": ".py",
   "mimetype": "text/x-python",
   "name": "python",
   "nbconvert_exporter": "python",
   "pygments_lexer": "ipython2",
   "version": "2.7.16"
  },
  "orig_nbformat": 4
 },
 "nbformat": 4,
 "nbformat_minor": 2
}
